{
 "cells": [
  {
   "cell_type": "markdown",
   "id": "fd8663d5-c4f7-473b-b3ca-bb7d4a57dea4",
   "metadata": {},
   "source": [
    "# ETL Processes\n",
    "\n",
    "\n",
    "Use this notebook to develop the ETL process for each of your tables before completing the etl.py file to load the whole datasets."
   ]
  },
  {
   "cell_type": "code",
   "execution_count": 3,
   "id": "8be84d81-86de-41ee-9c9a-17bebe693466",
   "metadata": {},
   "outputs": [],
   "source": [
    "import os\n",
    "import glob\n",
    "import psycopg2\n",
    "import pandas as pd\n",
    "#from sql_queries import *"
   ]
  },
  {
   "cell_type": "code",
   "execution_count": 5,
   "id": "752973b5-3a09-4559-b0af-fdbcb662c9c3",
   "metadata": {},
   "outputs": [],
   "source": [
    "conn = psycopg2.connect(\"host=127.0.0.1 dbname=songdb user=data_engineer password=data_engineer\")\n",
    "cur = conn.cursor()"
   ]
  },
  {
   "cell_type": "code",
   "execution_count": 6,
   "id": "c727a79a-f0fb-4e2f-aa93-ef333c3af782",
   "metadata": {},
   "outputs": [],
   "source": [
    "def get_files(filepath):\n",
    "    all_files = []\n",
    "    for root, dirs, files in os.walk(filepath):\n",
    "        files = glob.glob(os.path.join(root,'*.json'))\n",
    "        for f in files :\n",
    "            all_files.append(os.path.abspath(f))\n",
    "    \n",
    "    return all_files"
   ]
  },
  {
   "cell_type": "markdown",
   "id": "8a4ea8ad-b30b-483f-8fbb-aa8bb12b74a1",
   "metadata": {},
   "source": [
    "## Process song_data\n",
    "\n",
    "In this first part, we'll perform ETL on the first dataset, `song_data`, to create the `songs` and `artists` dimensional tables.\n",
    "\n",
    "Let's perform ETL on a single song file and load a single record into each table to start.\n",
    "\n",
    "- Use the get_files function provided above to get a list of all song JSON files in `data/song_data`\n",
    "- Select the first song in this list\n",
    "- Read the song file and view the data"
   ]
  },
  {
   "cell_type": "code",
   "execution_count": 7,
   "id": "afdf2275-51f7-4467-b4a3-d442be0966fa",
   "metadata": {},
   "outputs": [],
   "source": [
    "song_files = get_files('data/song_data')"
   ]
  },
  {
   "cell_type": "code",
   "execution_count": 8,
   "id": "8f9b86d0-ec70-4fd7-8f84-e4441f81ac39",
   "metadata": {},
   "outputs": [],
   "source": [
    "filepath = song_files[0]"
   ]
  },
  {
   "cell_type": "code",
   "execution_count": 9,
   "id": "a891b0f2-62f7-4c95-97d9-e9af5e5ce0c5",
   "metadata": {},
   "outputs": [
    {
     "data": {
      "text/html": [
       "<div>\n",
       "<style scoped>\n",
       "    .dataframe tbody tr th:only-of-type {\n",
       "        vertical-align: middle;\n",
       "    }\n",
       "\n",
       "    .dataframe tbody tr th {\n",
       "        vertical-align: top;\n",
       "    }\n",
       "\n",
       "    .dataframe thead th {\n",
       "        text-align: right;\n",
       "    }\n",
       "</style>\n",
       "<table border=\"1\" class=\"dataframe\">\n",
       "  <thead>\n",
       "    <tr style=\"text-align: right;\">\n",
       "      <th></th>\n",
       "      <th>num_songs</th>\n",
       "      <th>artist_id</th>\n",
       "      <th>artist_latitude</th>\n",
       "      <th>artist_longitude</th>\n",
       "      <th>artist_location</th>\n",
       "      <th>artist_name</th>\n",
       "      <th>song_id</th>\n",
       "      <th>title</th>\n",
       "      <th>duration</th>\n",
       "      <th>year</th>\n",
       "    </tr>\n",
       "  </thead>\n",
       "  <tbody>\n",
       "    <tr>\n",
       "      <th>0</th>\n",
       "      <td>1</td>\n",
       "      <td>ARGCY1Y1187B9A4FA5</td>\n",
       "      <td>36.16778</td>\n",
       "      <td>-86.77836</td>\n",
       "      <td>Nashville, TN.</td>\n",
       "      <td>Gloriana</td>\n",
       "      <td>SOQOTLQ12AB01868D0</td>\n",
       "      <td>Clementina Santafè</td>\n",
       "      <td>153.33832</td>\n",
       "      <td>0</td>\n",
       "    </tr>\n",
       "  </tbody>\n",
       "</table>\n",
       "</div>"
      ],
      "text/plain": [
       "   num_songs           artist_id  artist_latitude  artist_longitude  \\\n",
       "0          1  ARGCY1Y1187B9A4FA5         36.16778         -86.77836   \n",
       "\n",
       "  artist_location artist_name             song_id               title  \\\n",
       "0  Nashville, TN.    Gloriana  SOQOTLQ12AB01868D0  Clementina Santafè   \n",
       "\n",
       "    duration  year  \n",
       "0  153.33832     0  "
      ]
     },
     "execution_count": 9,
     "metadata": {},
     "output_type": "execute_result"
    }
   ],
   "source": [
    "df = pd.read_json(filepath, lines=True)\n",
    "df.head()"
   ]
  },
  {
   "cell_type": "markdown",
   "id": "3b0c8d48-df09-4654-b721-e2a08e497861",
   "metadata": {},
   "source": [
    "## 1: songs Table\n",
    "\n",
    "Extract Data for Songs Table\n",
    "\n",
    "- Select columns for song ID, title, artist ID, year, and duration\n",
    "- Use `df.values` to select just the values from the dataframe\n",
    "- Index to select the first (only) record in the dataframe\n",
    "- Convert the array to a list and set it to song_data"
   ]
  },
  {
   "cell_type": "code",
   "execution_count": 10,
   "id": "73aba998-d55b-4a63-80f5-4f7842bb21a7",
   "metadata": {},
   "outputs": [
    {
     "data": {
      "text/plain": [
       "['SOQOTLQ12AB01868D0',\n",
       " 'Clementina Santafè',\n",
       " 'ARGCY1Y1187B9A4FA5',\n",
       " 0,\n",
       " 153.33832]"
      ]
     },
     "execution_count": 10,
     "metadata": {},
     "output_type": "execute_result"
    }
   ],
   "source": [
    "song_data = list(df[['song_id', 'title', 'artist_id', 'year', 'duration']].values[0])\n",
    "song_data"
   ]
  },
  {
   "cell_type": "code",
   "execution_count": null,
   "id": "abfd041b-fa85-4143-b16b-b1107fcbcaf8",
   "metadata": {},
   "outputs": [],
   "source": []
  }
 ],
 "metadata": {
  "kernelspec": {
   "display_name": "Python 3 (ipykernel)",
   "language": "python",
   "name": "python3"
  },
  "language_info": {
   "codemirror_mode": {
    "name": "ipython",
    "version": 3
   },
   "file_extension": ".py",
   "mimetype": "text/x-python",
   "name": "python",
   "nbconvert_exporter": "python",
   "pygments_lexer": "ipython3",
   "version": "3.10.12"
  }
 },
 "nbformat": 4,
 "nbformat_minor": 5
}
